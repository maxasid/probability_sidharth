{
 "cells": [
  {
   "cell_type": "markdown",
   "id": "5b85f3b6",
   "metadata": {},
   "source": [
    "# 📊 Probability Simulation Project\n",
    "Module 5 - Probability\n",
    "\n",
    "This notebook covers the following topics:\n",
    "- Basics of Probability\n",
    "- Conditional Probability & Bayes' Theorem\n",
    "- Random Variables\n",
    "- Continuous Distributions\n",
    "- Central Limit Theorem"
   ]
  },
  {
   "cell_type": "markdown",
   "id": "eca976ea",
   "metadata": {},
   "source": [
    "## 1. Basics of Probability\n",
    "### a. Tossing a coin 10,000 times"
   ]
  },
  {
   "cell_type": "code",
   "execution_count": null,
   "id": "c7723ecf",
   "metadata": {},
   "outputs": [],
   "source": [
    "\n",
    "import random\n",
    "\n",
    "heads = 0\n",
    "tails = 0\n",
    "for _ in range(10000):\n",
    "    if random.choice(['H', 'T']) == 'H':\n",
    "        heads += 1\n",
    "    else:\n",
    "        tails += 1\n",
    "\n",
    "print(\"Probability of Heads:\", heads / 10000)\n",
    "print(\"Probability of Tails:\", tails / 10000)\n"
   ]
  },
  {
   "cell_type": "markdown",
   "id": "6f8ec0d6",
   "metadata": {},
   "source": [
    "### b. Probability of getting sum = 7 when rolling two dice"
   ]
  },
  {
   "cell_type": "code",
   "execution_count": null,
   "id": "a7a4b0a3",
   "metadata": {},
   "outputs": [],
   "source": [
    "\n",
    "sum_7 = 0\n",
    "trials = 10000\n",
    "for _ in range(trials):\n",
    "    d1 = random.randint(1, 6)\n",
    "    d2 = random.randint(1, 6)\n",
    "    if d1 + d2 == 7:\n",
    "        sum_7 += 1\n",
    "\n",
    "print(\"Probability of sum = 7:\", sum_7 / trials)\n"
   ]
  },
  {
   "cell_type": "markdown",
   "id": "605b0f12",
   "metadata": {},
   "source": [
    "## 2. At least one 6 in 10 rolls"
   ]
  },
  {
   "cell_type": "code",
   "execution_count": null,
   "id": "ae102524",
   "metadata": {},
   "outputs": [],
   "source": [
    "\n",
    "def estimate_one_six(trials=10000):\n",
    "    success = 0\n",
    "    for _ in range(trials):\n",
    "        rolls = [random.randint(1, 6) for _ in range(10)]\n",
    "        if 6 in rolls:\n",
    "            success += 1\n",
    "    return success / trials\n",
    "\n",
    "print(\"Estimated probability of getting at least one 6 in 10 rolls:\", estimate_one_six())\n"
   ]
  },
  {
   "cell_type": "markdown",
   "id": "4e2d9efb",
   "metadata": {},
   "source": [
    "## 3. Conditional Probability and Bayes' Theorem"
   ]
  },
  {
   "cell_type": "code",
   "execution_count": null,
   "id": "aeca4313",
   "metadata": {},
   "outputs": [],
   "source": [
    "\n",
    "colors = ['R'] * 5 + ['G'] * 7 + ['B'] * 8\n",
    "history = []\n",
    "for _ in range(1000):\n",
    "    first = random.choice(colors)\n",
    "    second = random.choice(colors)\n",
    "    history.append((first, second))\n",
    "\n",
    "# P(Red | Blue before)\n",
    "blue_before = [pair for pair in history if pair[0] == 'B']\n",
    "red_after_blue = [pair for pair in blue_before if pair[1] == 'R']\n",
    "p_red_given_blue = len(red_after_blue) / len(blue_before)\n",
    "print(\"P(Red | Previous Blue):\", p_red_given_blue)\n",
    "\n",
    "# Bayes verification left for manual explanation\n"
   ]
  },
  {
   "cell_type": "markdown",
   "id": "e872b4d2",
   "metadata": {},
   "source": [
    "## 4. Discrete Random Variable"
   ]
  },
  {
   "cell_type": "code",
   "execution_count": null,
   "id": "d9ff9187",
   "metadata": {},
   "outputs": [],
   "source": [
    "\n",
    "import numpy as np\n",
    "\n",
    "values = [1, 2, 3]\n",
    "probabilities = [0.25, 0.35, 0.4]\n",
    "sample = np.random.choice(values, size=1000, p=probabilities)\n",
    "\n",
    "print(\"Mean:\", np.mean(sample))\n",
    "print(\"Variance:\", np.var(sample))\n",
    "print(\"Standard Deviation:\", np.std(sample))\n"
   ]
  },
  {
   "cell_type": "markdown",
   "id": "04f5bc87",
   "metadata": {},
   "source": [
    "## 5. Continuous Random Variables - Exponential Distribution"
   ]
  },
  {
   "cell_type": "code",
   "execution_count": null,
   "id": "d7afac39",
   "metadata": {},
   "outputs": [],
   "source": [
    "\n",
    "import matplotlib.pyplot as plt\n",
    "import seaborn as sns\n",
    "\n",
    "exp_data = np.random.exponential(scale=5, size=2000)\n",
    "\n",
    "plt.figure(figsize=(10, 5))\n",
    "sns.histplot(exp_data, bins=50, kde=True, stat='density')\n",
    "plt.title(\"Histogram and PDF of Exponential Distribution (mean=5)\")\n",
    "plt.xlabel(\"Value\")\n",
    "plt.ylabel(\"Density\")\n",
    "plt.grid(True)\n",
    "plt.show()\n"
   ]
  },
  {
   "cell_type": "markdown",
   "id": "78ec278d",
   "metadata": {},
   "source": [
    "## 6. Central Limit Theorem"
   ]
  },
  {
   "cell_type": "code",
   "execution_count": null,
   "id": "f599341a",
   "metadata": {},
   "outputs": [],
   "source": [
    "\n",
    "uniform_data = np.random.uniform(0, 1, 10000)\n",
    "\n",
    "sample_means = []\n",
    "for _ in range(1000):\n",
    "    sample = np.random.choice(uniform_data, size=30)\n",
    "    sample_means.append(np.mean(sample))\n",
    "\n",
    "plt.figure(figsize=(12, 5))\n",
    "\n",
    "# Original Uniform Distribution\n",
    "plt.subplot(1, 2, 1)\n",
    "sns.histplot(uniform_data, bins=50, kde=False)\n",
    "plt.title(\"Original Uniform Distribution\")\n",
    "\n",
    "# Distribution of Sample Means\n",
    "plt.subplot(1, 2, 2)\n",
    "sns.histplot(sample_means, bins=30, kde=True)\n",
    "plt.title(\"Distribution of Sample Means (CLT)\")\n",
    "\n",
    "plt.tight_layout()\n",
    "plt.show()\n"
   ]
  }
 ],
 "metadata": {},
 "nbformat": 4,
 "nbformat_minor": 5
}
